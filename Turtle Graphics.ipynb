{
 "cells": [
  {
   "cell_type": "code",
   "execution_count": 4,
   "id": "b92f779e",
   "metadata": {},
   "outputs": [],
   "source": [
    "import turtle\n",
    "for i in range(1,5):\n",
    "    turtle.forward(100)\n",
    "    turtle.right(90)\n",
    "turtle.exitonclick()"
   ]
  },
  {
   "cell_type": "code",
   "execution_count": 12,
   "id": "d56f18ff",
   "metadata": {},
   "outputs": [],
   "source": [
    "import turtle\n",
    "turtle.forward(80)\n",
    "turtle.left(150)\n",
    "turtle.forward(100)\n",
    "turtle.left(120)\n",
    "turtle.forward(60)\n",
    "turtle.exitonclick()"
   ]
  },
  {
   "cell_type": "code",
   "execution_count": 4,
   "id": "4a67870f",
   "metadata": {},
   "outputs": [],
   "source": [
    "import turtle\n",
    "import math\n",
    "x=(math.pi*100)/360\n",
    "for i in range(0,360):\n",
    "    turtle.forward(x)\n",
    "    turtle.right(1)\n",
    "turtle.exitonclick()"
   ]
  },
  {
   "cell_type": "code",
   "execution_count": 6,
   "id": "61f71b28",
   "metadata": {},
   "outputs": [],
   "source": [
    "import turtle\n",
    "for i in range(0,360):\n",
    "    turtle.forward(1)\n",
    "    turtle.right(1)\n",
    "turtle.exitonclick()"
   ]
  },
  {
   "cell_type": "code",
   "execution_count": 14,
   "id": "112cfa43",
   "metadata": {},
   "outputs": [],
   "source": [
    "import turtle\n",
    "for i in range(1,5):\n",
    "    turtle.forward(30)\n",
    "    turtle.right(90)\n",
    "turtle.penup()\n",
    "turtle.forward(60)\n",
    "turtle.pendown()\n",
    "for i in range(1,5):\n",
    "    turtle.forward(30)\n",
    "    turtle.right(90)\n",
    "turtle.penup()\n",
    "turtle.forward(60)\n",
    "turtle.pendown()\n",
    "for i in range(1,5):\n",
    "    turtle.forward(30)\n",
    "    turtle.right(90)\n",
    "turtle.hideturtle()\n",
    "turtle.exitonclick()"
   ]
  },
  {
   "cell_type": "code",
   "execution_count": 1,
   "id": "6f0ae8a1",
   "metadata": {},
   "outputs": [],
   "source": [
    "import turtle\n",
    "for i in range(0,5):\n",
    "    turtle.forward(200)\n",
    "    turtle.right(144)\n",
    "turtle.exitonclick()    "
   ]
  },
  {
   "cell_type": "code",
   "execution_count": 1,
   "id": "abbebd79",
   "metadata": {},
   "outputs": [],
   "source": [
    "import turtle\n",
    "turtle.left(90)\n",
    "turtle.forward(100)\n",
    "turtle.right(90)\n",
    "turtle.penup()\n",
    "turtle.forward(40)\n",
    "turtle.pendown()\n",
    "turtle.forward(60)\n",
    "turtle.right(90)\n",
    "turtle.forward(50)\n",
    "turtle.right(90)\n",
    "turtle.forward(60)\n",
    "turtle.left(90)\n",
    "turtle.forward(50)\n",
    "turtle.left(90)\n",
    "turtle.forward(60)\n",
    "turtle.penup()\n",
    "turtle.forward(40)\n",
    "turtle.pendown()\n",
    "turtle.forward(60)\n",
    "turtle.left(90)\n",
    "turtle.forward(50)\n",
    "turtle.left(90)\n",
    "turtle.forward(40)\n",
    "turtle.left(180)\n",
    "turtle.forward(40)\n",
    "turtle.left(90)\n",
    "turtle.forward(50)\n",
    "turtle.left(90)\n",
    "turtle.forward(60)\n",
    "turtle.hideturtle()\n",
    "\n",
    "turtle.exitonclick()"
   ]
  },
  {
   "cell_type": "code",
   "execution_count": 3,
   "id": "3aed7557",
   "metadata": {},
   "outputs": [],
   "source": [
    "import turtle\n",
    "import random\n",
    "\n",
    "for i in range(0,8):\n",
    "    turtle.color(random.choice([\"blue\",\"red\",\"pink\",\"black\",\"orange\",\"yellow\"]))\n",
    "    turtle.forward(50)\n",
    "    turtle.left(45)\n",
    "    \n",
    "turtle.hideturtle()\n",
    "turtle.exitonclick()    "
   ]
  },
  {
   "cell_type": "code",
   "execution_count": 6,
   "id": "b0ae5408",
   "metadata": {},
   "outputs": [],
   "source": [
    "import turtle\n",
    "import random\n",
    "for i in range(0,10):\n",
    "    turtle.left(36)\n",
    "    for i in range(0,8):\n",
    "        turtle.color(random.choice([\"blue\",\"red\",\"pink\",\"black\",\"orange\",\"yellow\"]))\n",
    "        turtle.forward(50)\n",
    "        turtle.left(45)\n",
    "    \n",
    "turtle.hideturtle()\n",
    "turtle.exitonclick()   "
   ]
  },
  {
   "cell_type": "code",
   "execution_count": 16,
   "id": "1d21a2a8",
   "metadata": {},
   "outputs": [],
   "source": [
    "import turtle\n",
    "import random\n",
    "\n",
    "lines = random.randint(5,20)\n",
    "\n",
    "for x in range(0,lines):\n",
    "    length = random.randint(25,100)\n",
    "    rotate = random.randint(1,365)\n",
    "    turtle.forward(length)\n",
    "    turtle.right(rotate)\n",
    "    \n",
    "turtle.exitonclick()"
   ]
  },
  {
   "cell_type": "code",
   "execution_count": null,
   "id": "80b64f9c",
   "metadata": {},
   "outputs": [],
   "source": []
  },
  {
   "cell_type": "code",
   "execution_count": null,
   "id": "9dc82f56",
   "metadata": {},
   "outputs": [],
   "source": []
  }
 ],
 "metadata": {
  "kernelspec": {
   "display_name": "Python 3 (ipykernel)",
   "language": "python",
   "name": "python3"
  },
  "language_info": {
   "codemirror_mode": {
    "name": "ipython",
    "version": 3
   },
   "file_extension": ".py",
   "mimetype": "text/x-python",
   "name": "python",
   "nbconvert_exporter": "python",
   "pygments_lexer": "ipython3",
   "version": "3.11.5"
  }
 },
 "nbformat": 4,
 "nbformat_minor": 5
}
